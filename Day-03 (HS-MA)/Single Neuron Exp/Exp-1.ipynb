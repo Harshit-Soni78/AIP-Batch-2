{
 "cells": [
  {
   "cell_type": "markdown",
   "metadata": {},
   "source": [
    "## 1. WAP to implement a Perceptron using numpy in Python."
   ]
  },
  {
   "cell_type": "markdown",
   "metadata": {},
   "source": [
    "## Perceptron Implementation with Numpy\n",
    "\n",
    "---\n",
    "### Explanation:\n",
    "\n",
    "1.  **Initialization**:\n",
    "    \n",
    "    -   `weights`: Initialized with zeros, including a bias weight.\n",
    "    -   `learning_rate`: Determines the step size for weight updates.\n",
    "    -   `epochs`: Number of iterations over the entire dataset.\n",
    "2.  **Activation Function**:\n",
    "    \n",
    "    -   A step function that outputs 1 if the weighted sum is non-negative, otherwise 0.\n",
    "3.  **Training (fit method)**:\n",
    "    \n",
    "    -   For each input, the perceptron predicts the output.\n",
    "    -   The weights are updated based on the error (`y[i] - y_pred`) and the learning rate.\n",
    "4.  **Prediction**:\n",
    "    \n",
    "    -   Computes the weighted sum of inputs and applies the activation function.\n",
    "5.  **Example**:\n",
    "    \n",
    "    -   The program trains the perceptron on a basic AND logic gate dataset and predicts the outputs for the same inputs.\n"
   ]
  },
  {
   "cell_type": "markdown",
   "metadata": {},
   "source": [
    "### Class Perceptron"
   ]
  },
  {
   "cell_type": "code",
   "execution_count": 5,
   "metadata": {},
   "outputs": [],
   "source": [
    "import numpy as np\n",
    "class Perceptron:\n",
    "    def __init__(self, input_size, learning_rate=0.01, epochs=100):\n",
    "        self.weights = np.zeros(input_size + 1)  # +1 for the bias term\n",
    "        self.learning_rate = learning_rate\n",
    "        self.epochs = epochs\n",
    "\n",
    "    def activation_function(self, x):\n",
    "        return 1 if x >= 0 else 0\n",
    "\n",
    "    def predict(self, x):\n",
    "        z = np.dot(x, self.weights[1:]) + self.weights[0]  # w0 is the bias\n",
    "        return self.activation_function(z)\n",
    "\n",
    "    def fit(self, X, y):\n",
    "        for _ in range(self.epochs):\n",
    "            for i in range(len(X)):\n",
    "                x_i = X[i]\n",
    "                y_pred = self.predict(x_i)\n",
    "                update = self.learning_rate * (y[i] - y_pred)\n",
    "                self.weights[1:] += update * x_i  # Update weights\n",
    "                self.weights[0] += update  # Update bias"
   ]
  },
  {
   "cell_type": "markdown",
   "metadata": {},
   "source": [
    "### Example usage:"
   ]
  },
  {
   "cell_type": "code",
   "execution_count": 6,
   "metadata": {},
   "outputs": [
    {
     "name": "stdout",
     "output_type": "stream",
     "text": [
      "Input: [0 0], Predicted Output: 0\n",
      "Input: [0 1], Predicted Output: 0\n",
      "Input: [1 0], Predicted Output: 0\n",
      "Input: [1 1], Predicted Output: 1\n"
     ]
    }
   ],
   "source": [
    "if __name__ == \"__main__\":\n",
    "    # Define training data (AND logic gate example)\n",
    "    X = np.array([\n",
    "        [0, 0],\n",
    "        [0, 1],\n",
    "        [1, 0],\n",
    "        [1, 1]\n",
    "    ])\n",
    "\n",
    "    y = np.array([0, 0, 0, 1])  # Output for AND gate\n",
    "\n",
    "    # Create and train the perceptron\n",
    "    perceptron = Perceptron(input_size=2, learning_rate=0.1, epochs=10)\n",
    "    perceptron.fit(X, y)\n",
    "\n",
    "    # Test the perceptron\n",
    "    for x in X:\n",
    "        print(f\"Input: {x}, Predicted Output: {perceptron.predict(x)}\")"
   ]
  },
  {
   "cell_type": "code",
   "execution_count": null,
   "metadata": {},
   "outputs": [],
   "source": []
  }
 ],
 "metadata": {
  "kernelspec": {
   "display_name": "Projects",
   "language": "python",
   "name": "python3"
  },
  "language_info": {
   "codemirror_mode": {
    "name": "ipython",
    "version": 3
   },
   "file_extension": ".py",
   "mimetype": "text/x-python",
   "name": "python",
   "nbconvert_exporter": "python",
   "pygments_lexer": "ipython3",
   "version": "3.12.8"
  }
 },
 "nbformat": 4,
 "nbformat_minor": 2
}
