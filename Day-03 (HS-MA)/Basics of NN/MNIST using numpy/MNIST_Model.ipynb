{
 "cells": [
  {
   "cell_type": "markdown",
   "metadata": {},
   "source": [
    "## 1. Importing Necessary Libraries"
   ]
  },
  {
   "cell_type": "code",
   "execution_count": 2,
   "metadata": {
    "_cell_guid": "b1076dfc-b9ad-4769-8c92-a6c4dae69d19",
    "_uuid": "8f2839f25d086af736a60e9eeb907d3b93b6e0e5"
   },
   "outputs": [],
   "source": [
    "import numpy as np\n",
    "import pandas as pd\n",
    "from matplotlib import pyplot as plt"
   ]
  },
  {
   "cell_type": "markdown",
   "metadata": {},
   "source": [
    "-   `numpy`: Used for numerical computations (matrix operations, random initialization, etc.).\n",
    "-   `pandas`: Used to read the MNIST dataset from a CSV file.\n",
    "-   `matplotlib.pyplot`: Used for visualizing handwritten digits from the dataset."
   ]
  },
  {
   "cell_type": "code",
   "execution_count": 3,
   "metadata": {},
   "outputs": [],
   "source": [
    "# Load the dataset\n",
    "# MNIST dataset should be stored in 'MNIST_Dataset.csv'\n",
    "data = pd.read_csv('MNIST_Dataset.csv')"
   ]
  },
  {
   "cell_type": "markdown",
   "metadata": {},
   "source": [
    "-   Reads the MNIST dataset from a CSV file.\n",
    "-   Converts the dataset into a NumPy array for efficient numerical processing.\n",
    "-   Stores the number of rows (`m`, representing total samples) and columns (`n`, representing 1 label + 784 pixel values per sample).\n"
   ]
  },
  {
   "cell_type": "code",
   "execution_count": 4,
   "metadata": {},
   "outputs": [],
   "source": [
    "# Convert pandas DataFrame to numpy array\n",
    "data = np.array(data)\n",
    "m, n = data.shape  # Get the number of rows (m) and columns (n)"
   ]
  },
  {
   "cell_type": "code",
   "execution_count": 24,
   "metadata": {},
   "outputs": [
    {
     "name": "stdout",
     "output_type": "stream",
     "text": [
      "42000 785\n"
     ]
    }
   ],
   "source": [
    "print(m,n)"
   ]
  },
  {
   "cell_type": "code",
   "execution_count": 25,
   "metadata": {},
   "outputs": [],
   "source": [
    "# Shuffle the dataset to ensure randomness before splitting\n",
    "np.random.shuffle(data)\n",
    "\n",
    "# Randomly shuffles the dataset to ensure the model doesn't learn patterns based on order."
   ]
  },
  {
   "cell_type": "code",
   "execution_count": 6,
   "metadata": {},
   "outputs": [
    {
     "data": {
      "text/plain": [
       "'\\nThe first 1000 samples are assigned to the development (dev) set.\\nY_dev stores labels (0-9 digits).\\nX_dev stores pixel data and is normalized to keep values between 0 and 1.\\n'"
      ]
     },
     "execution_count": 6,
     "metadata": {},
     "output_type": "execute_result"
    }
   ],
   "source": [
    "# Split into development (dev) and training sets\n",
    "# First 1000 examples for development/testing\n",
    "data_dev = data[0:1000].T  # Transpose for better data handling\n",
    "Y_dev = data_dev[0]  # Labels\n",
    "X_dev = data_dev[1:n]  # Features\n",
    "X_dev = X_dev / 255.  # Normalize pixel values (0-255) to (0-1)\n",
    "\n",
    "\n",
    "'''\n",
    "The first 1000 samples are assigned to the development (dev) set.\n",
    "Y_dev stores labels (0-9 digits).\n",
    "X_dev stores pixel data and is normalized to keep values between 0 and 1.\n",
    "'''"
   ]
  },
  {
   "cell_type": "code",
   "execution_count": 30,
   "metadata": {},
   "outputs": [
    {
     "data": {
      "text/plain": [
       "'\\nThe remaining samples are assigned to the training set.\\nm_train stores the number of training samples.\\n'"
      ]
     },
     "execution_count": 30,
     "metadata": {},
     "output_type": "execute_result"
    }
   ],
   "source": [
    "# Remaining data for training\n",
    "data_train = data[1000:m].T  # Transpose\n",
    "Y_train = data_train[0]  # Labels\n",
    "X_train = data_train[1:n]  # Features\n",
    "X_train = X_train / 255.  # Normalize\n",
    "_, m_train = X_train.shape  # Get number of training examples\n",
    "\n",
    "'''\n",
    "The remaining samples are assigned to the training set.\n",
    "m_train stores the number of training samples.\n",
    "'''"
   ]
  },
  {
   "cell_type": "markdown",
   "metadata": {},
   "source": []
  },
  {
   "cell_type": "markdown",
   "metadata": {},
   "source": [
    "### Initializing Neural Network Parameters"
   ]
  },
  {
   "cell_type": "code",
   "execution_count": null,
   "metadata": {},
   "outputs": [],
   "source": []
  },
  {
   "cell_type": "code",
   "execution_count": 8,
   "metadata": {},
   "outputs": [],
   "source": [
    "# Initialize parameters (weights and biases) for a 2-layer neural network\n",
    "def init_params():\n",
    "    W1 = np.random.rand(10, 784) - 0.5  # Weights for layer 1\n",
    "    b1 = np.random.rand(10, 1) - 0.5  # Biases for layer 1\n",
    "    W2 = np.random.rand(10, 10) - 0.5  # Weights for layer 2\n",
    "    b2 = np.random.rand(10, 1) - 0.5  # Biases for layer 2\n",
    "    return W1, b1, W2, b2"
   ]
  },
  {
   "cell_type": "markdown",
   "metadata": {},
   "source": [
    "-   Initializes weights (`W1`, `W2`) and biases (`b1`, `b2`) with random values.\n",
    "-   Layer 1: 10 neurons, input size 784 (28×28 pixels).\n",
    "-   Layer 2: 10 neurons (output layer for 10 classes, digits 0-9).\n",
    "---\n"
   ]
  },
  {
   "cell_type": "code",
   "execution_count": 9,
   "metadata": {},
   "outputs": [],
   "source": [
    "# Activation function: ReLU (Rectified Linear Unit)\n",
    "def ReLU(Z):\n",
    "    return np.maximum(Z, 0)"
   ]
  },
  {
   "cell_type": "code",
   "execution_count": 33,
   "metadata": {},
   "outputs": [],
   "source": [
    "# Activation function: Softmax (for multi-class classification)\n",
    "def softmax(Z):\n",
    "    A = np.exp(Z) / sum(np.exp(Z))\n",
    "    return A\n",
    "\n",
    "# Converts outputs into probabilities by normalizing exponentiated values."
   ]
  },
  {
   "cell_type": "code",
   "execution_count": 34,
   "metadata": {},
   "outputs": [],
   "source": [
    "# Forward propagation: Computes activations through the network\n",
    "def forward_prop(W1, b1, W2, b2, X):\n",
    "    Z1 = W1.dot(X) + b1  # Linear transformation for first layer\n",
    "    A1 = ReLU(Z1)  # Activation using ReLU\n",
    "    Z2 = W2.dot(A1) + b2  # Linear transformation for second layer\n",
    "    A2 = softmax(Z2)  # Output probabilities using softmax\n",
    "    return Z1, A1, Z2, A2"
   ]
  },
  {
   "cell_type": "markdown",
   "metadata": {},
   "source": [
    "-   **Layer 1**:\n",
    "    -   `Z1 = W1.dot(X) + b1` (Linear transformation).\n",
    "    -   `A1 = ReLU(Z1)` (Activation function).\n",
    "-   **Layer 2**:\n",
    "    -   `Z2 = W2.dot(A1) + b2` (Linear transformation).\n",
    "    -   `A2 = softmax(Z2)` (Convert to probability distribution).\n",
    "---"
   ]
  },
  {
   "cell_type": "code",
   "execution_count": 35,
   "metadata": {},
   "outputs": [],
   "source": [
    "# Derivative of ReLU function\n",
    "def ReLU_deriv(Z):\n",
    "    return Z > 0  # Returns 1 if Z > 0, otherwise 0"
   ]
  },
  {
   "cell_type": "code",
   "execution_count": 13,
   "metadata": {},
   "outputs": [],
   "source": [
    "# Convert labels into one-hot encoding\n",
    "def one_hot(Y):\n",
    "    one_hot_Y = np.zeros((Y.size, Y.max() + 1))\n",
    "    one_hot_Y[np.arange(Y.size), Y] = 1\n",
    "    return one_hot_Y.T\n",
    "\n",
    "# Converts digit labels into one-hot encoded vectors."
   ]
  },
  {
   "cell_type": "code",
   "execution_count": 14,
   "metadata": {},
   "outputs": [],
   "source": [
    "# Backpropagation: Compute gradients to update parameters\n",
    "def backward_prop(Z1, A1, Z2, A2, W1, W2, X, Y):\n",
    "    one_hot_Y = one_hot(Y)  # Convert labels to one-hot representation\n",
    "    dZ2 = A2 - one_hot_Y  # Error at output layer\n",
    "    dW2 = 1 / m_train * dZ2.dot(A1.T)  # Gradient for W2\n",
    "    db2 = 1 / m_train * np.sum(dZ2, axis=1, keepdims=True)  # Gradient for b2\n",
    "    dZ1 = W2.T.dot(dZ2) * ReLU_deriv(Z1)  # Error at hidden layer\n",
    "    dW1 = 1 / m_train * dZ1.dot(X.T)  # Gradient for W1\n",
    "    db1 = 1 / m_train * np.sum(dZ1, axis=1, keepdims=True)  # Gradient for b1\n",
    "    return dW1, db1, dW2, db2\n",
    "\n",
    "# Computes gradients (dW1, db1, dW2, db2) for parameter updates."
   ]
  },
  {
   "cell_type": "code",
   "execution_count": 15,
   "metadata": {},
   "outputs": [],
   "source": [
    "# Update parameters using gradient descent\n",
    "def update_params(W1, b1, W2, b2, dW1, db1, dW2, db2, alpha):\n",
    "    W1 = W1 - alpha * dW1\n",
    "    b1 = b1 - alpha * db1    \n",
    "    W2 = W2 - alpha * dW2  \n",
    "    b2 = b2 - alpha * db2    \n",
    "    return W1, b1, W2, b2"
   ]
  },
  {
   "cell_type": "code",
   "execution_count": 16,
   "metadata": {},
   "outputs": [],
   "source": [
    "# Predict the class label based on probabilities\n",
    "def get_predictions(A2):\n",
    "    return np.argmax(A2, axis=0)"
   ]
  },
  {
   "cell_type": "code",
   "execution_count": 17,
   "metadata": {},
   "outputs": [],
   "source": [
    "# Compute accuracy of the model\n",
    "def get_accuracy(predictions, Y):\n",
    "    print(predictions, Y)\n",
    "    return np.sum(predictions == Y) / Y.size"
   ]
  },
  {
   "cell_type": "code",
   "execution_count": 18,
   "metadata": {},
   "outputs": [],
   "source": [
    "# Training loop using gradient descent\n",
    "def gradient_descent(X, Y, alpha, iterations):\n",
    "    W1, b1, W2, b2 = init_params()  # Initialize weights and biases\n",
    "    for i in range(iterations):\n",
    "        Z1, A1, Z2, A2 = forward_prop(W1, b1, W2, b2, X)  # Forward pass\n",
    "        dW1, db1, dW2, db2 = backward_prop(Z1, A1, Z2, A2, W1, W2, X, Y)  # Backward pass\n",
    "        W1, b1, W2, b2 = update_params(W1, b1, W2, b2, dW1, db1, dW2, db2, alpha)  # Update parameters\n",
    "        if i % 10 == 0:\n",
    "            print(\"Iteration: \", i)\n",
    "            predictions = get_predictions(A2)\n",
    "            print(get_accuracy(predictions, Y))\n",
    "    return W1, b1, W2, b2"
   ]
  },
  {
   "cell_type": "code",
   "execution_count": 19,
   "metadata": {},
   "outputs": [],
   "source": [
    "# Function to make predictions\n",
    "def make_predictions(X, W1, b1, W2, b2):\n",
    "    _, _, _, A2 = forward_prop(W1, b1, W2, b2, X)\n",
    "    return get_predictions(A2)"
   ]
  },
  {
   "cell_type": "code",
   "execution_count": 20,
   "metadata": {},
   "outputs": [],
   "source": [
    "# Function to test predictions on a single example\n",
    "def test_prediction(index, W1, b1, W2, b2):\n",
    "    current_image = X_train[:, index, None]  # Select a single image\n",
    "    prediction = make_predictions(current_image, W1, b1, W2, b2)  # Get prediction\n",
    "    label = Y_train[index]  # Get actual label\n",
    "    print(\"Prediction: \", prediction)\n",
    "    print(\"Label: \", label)\n",
    "    \n",
    "    current_image = current_image.reshape((28, 28)) * 255  # Reshape to 28x28 pixels\n",
    "    plt.gray()\n",
    "    plt.imshow(current_image, interpolation='nearest')\n",
    "    plt.show()"
   ]
  },
  {
   "cell_type": "code",
   "execution_count": null,
   "metadata": {},
   "outputs": [
    {
     "name": "stdout",
     "output_type": "stream",
     "text": [
      "Iteration:  0\n",
      "[6 7 2 ... 2 2 2] [6 7 4 ... 8 3 6]\n",
      "0.1034390243902439\n",
      "Iteration:  10\n",
      "[6 9 2 ... 3 4 6] [6 7 4 ... 8 3 6]\n",
      "0.18792682926829268\n",
      "Iteration:  20\n",
      "[6 9 1 ... 3 4 6] [6 7 4 ... 8 3 6]\n",
      "0.25695121951219513\n",
      "Iteration:  30\n",
      "[6 9 1 ... 0 4 6] [6 7 4 ... 8 3 6]\n",
      "0.30453658536585365\n",
      "Iteration:  40\n",
      "[6 9 4 ... 9 4 6] [6 7 4 ... 8 3 6]\n",
      "0.34704878048780485\n",
      "Iteration:  50\n",
      "[6 9 4 ... 9 4 6] [6 7 4 ... 8 3 6]\n",
      "0.38402439024390245\n",
      "Iteration:  60\n",
      "[6 7 4 ... 9 4 6] [6 7 4 ... 8 3 6]\n",
      "0.41941463414634145\n",
      "Iteration:  70\n",
      "[6 7 4 ... 7 4 6] [6 7 4 ... 8 3 6]\n",
      "0.45351219512195123\n",
      "Iteration:  80\n",
      "[6 7 4 ... 7 4 2] [6 7 4 ... 8 3 6]\n",
      "0.4855853658536585\n",
      "Iteration:  90\n",
      "[6 7 4 ... 8 4 2] [6 7 4 ... 8 3 6]\n",
      "0.5178780487804878\n",
      "Iteration:  100\n",
      "[3 7 4 ... 8 4 2] [6 7 4 ... 8 3 6]\n",
      "0.5490487804878049\n",
      "Iteration:  110\n",
      "[3 7 4 ... 8 4 2] [6 7 4 ... 8 3 6]\n",
      "0.5796097560975609\n",
      "Iteration:  120\n",
      "[3 7 4 ... 8 4 2] [6 7 4 ... 8 3 6]\n",
      "0.6026829268292683\n",
      "Iteration:  130\n",
      "[3 7 4 ... 8 5 6] [6 7 4 ... 8 3 6]\n",
      "0.6254878048780488\n",
      "Iteration:  140\n",
      "[6 7 4 ... 8 5 6] [6 7 4 ... 8 3 6]\n",
      "0.6477804878048781\n",
      "Iteration:  150\n",
      "[6 7 4 ... 8 5 6] [6 7 4 ... 8 3 6]\n",
      "0.6654146341463415\n",
      "Iteration:  160\n",
      "[6 7 4 ... 8 5 6] [6 7 4 ... 8 3 6]\n",
      "0.6820731707317074\n",
      "Iteration:  170\n",
      "[6 7 4 ... 8 5 6] [6 7 4 ... 8 3 6]\n",
      "0.695170731707317\n",
      "Iteration:  180\n",
      "[6 7 4 ... 8 5 6] [6 7 4 ... 8 3 6]\n",
      "0.7085121951219512\n",
      "Iteration:  190\n",
      "[6 7 4 ... 8 5 6] [6 7 4 ... 8 3 6]\n",
      "0.7196829268292683\n",
      "Iteration:  200\n",
      "[6 7 4 ... 8 5 6] [6 7 4 ... 8 3 6]\n",
      "0.7300487804878049\n",
      "Iteration:  210\n",
      "[6 7 4 ... 8 5 6] [6 7 4 ... 8 3 6]\n",
      "0.7381951219512195\n",
      "Iteration:  220\n",
      "[6 7 4 ... 8 5 6] [6 7 4 ... 8 3 6]\n",
      "0.7465609756097561\n",
      "Iteration:  230\n",
      "[6 7 4 ... 8 5 6] [6 7 4 ... 8 3 6]\n",
      "0.7534634146341463\n",
      "Iteration:  240\n",
      "[6 7 4 ... 8 3 6] [6 7 4 ... 8 3 6]\n",
      "0.7602682926829268\n",
      "Iteration:  250\n",
      "[6 7 4 ... 8 3 6] [6 7 4 ... 8 3 6]\n",
      "0.7657804878048781\n",
      "Iteration:  260\n",
      "[6 7 4 ... 8 3 6] [6 7 4 ... 8 3 6]\n",
      "0.7713414634146342\n",
      "Iteration:  270\n",
      "[6 7 4 ... 8 3 6] [6 7 4 ... 8 3 6]\n",
      "0.7774146341463415\n",
      "Iteration:  280\n",
      "[6 7 4 ... 8 3 6] [6 7 4 ... 8 3 6]\n",
      "0.7824634146341464\n",
      "Iteration:  290\n",
      "[6 7 4 ... 8 3 6] [6 7 4 ... 8 3 6]\n",
      "0.7870487804878049\n",
      "Iteration:  300\n",
      "[6 7 4 ... 8 3 6] [6 7 4 ... 8 3 6]\n",
      "0.7910731707317074\n",
      "Iteration:  310\n",
      "[6 7 4 ... 8 3 6] [6 7 4 ... 8 3 6]\n",
      "0.7954634146341464\n",
      "Iteration:  320\n",
      "[6 7 4 ... 8 3 6] [6 7 4 ... 8 3 6]\n",
      "0.7992682926829269\n",
      "Iteration:  330\n",
      "[6 7 4 ... 8 3 6] [6 7 4 ... 8 3 6]\n",
      "0.8028780487804879\n",
      "Iteration:  340\n",
      "[6 7 4 ... 8 3 6] [6 7 4 ... 8 3 6]\n",
      "0.8061219512195122\n",
      "Iteration:  350\n",
      "[6 7 4 ... 8 3 6] [6 7 4 ... 8 3 6]\n",
      "0.8089756097560976\n",
      "Iteration:  360\n",
      "[6 7 4 ... 8 3 6] [6 7 4 ... 8 3 6]\n",
      "0.8113902439024391\n",
      "Iteration:  370\n",
      "[6 7 4 ... 8 3 6] [6 7 4 ... 8 3 6]\n",
      "0.814780487804878\n",
      "Iteration:  380\n",
      "[6 7 4 ... 8 3 6] [6 7 4 ... 8 3 6]\n",
      "0.818\n",
      "Iteration:  390\n",
      "[6 7 4 ... 8 3 6] [6 7 4 ... 8 3 6]\n",
      "0.820390243902439\n",
      "Iteration:  400\n",
      "[6 7 4 ... 8 3 6] [6 7 4 ... 8 3 6]\n",
      "0.8228536585365853\n",
      "Iteration:  410\n",
      "[6 7 4 ... 8 3 6] [6 7 4 ... 8 3 6]\n",
      "0.8251951219512195\n",
      "Iteration:  420\n",
      "[6 7 4 ... 8 3 6] [6 7 4 ... 8 3 6]\n",
      "0.8277317073170731\n",
      "Iteration:  430\n",
      "[6 7 4 ... 8 3 6] [6 7 4 ... 8 3 6]\n",
      "0.8301951219512195\n",
      "Iteration:  440\n",
      "[6 7 4 ... 8 3 6] [6 7 4 ... 8 3 6]\n",
      "0.8322439024390244\n",
      "Iteration:  450\n",
      "[6 7 4 ... 8 3 6] [6 7 4 ... 8 3 6]\n",
      "0.8344634146341463\n",
      "Iteration:  460\n",
      "[6 7 4 ... 8 3 6] [6 7 4 ... 8 3 6]\n",
      "0.8361463414634146\n",
      "Iteration:  470\n",
      "[6 7 4 ... 8 3 6] [6 7 4 ... 8 3 6]\n",
      "0.837780487804878\n",
      "Iteration:  480\n",
      "[6 7 4 ... 8 3 6] [6 7 4 ... 8 3 6]\n",
      "0.8392439024390244\n",
      "Iteration:  490\n",
      "[6 7 4 ... 8 3 6] [6 7 4 ... 8 3 6]\n",
      "0.8408536585365853\n"
     ]
    }
   ],
   "source": [
    "# Train the model with learning rate 0.1 and 500 iterations/epochs\n",
    "W1, b1, W2, b2 = gradient_descent(X_train, Y_train, 0.10, 500)"
   ]
  },
  {
   "cell_type": "code",
   "execution_count": 37,
   "metadata": {},
   "outputs": [
    {
     "name": "stdout",
     "output_type": "stream",
     "text": [
      "Prediction:  [1]\n",
      "Label:  1\n"
     ]
    },
    {
     "data": {
      "image/png": "[encoded data removed]",
      "text/plain": [
       "<Figure size 640x480 with 1 Axes>"
      ]
     },
     "metadata": {},
     "output_type": "display_data"
    }
   ],
   "source": [
    "# Test model predictions\n",
    "test_prediction(256, W1, b1, W2, b2)\n",
    "# test_prediction(1, W1, b1, W2, b2)\n",
    "# test_prediction(2, W1, b1, W2, b2)\n",
    "# test_prediction(3, W1, b1, W2, b2)"
   ]
  },
  {
   "cell_type": "code",
   "execution_count": 23,
   "metadata": {},
   "outputs": [
    {
     "name": "stdout",
     "output_type": "stream",
     "text": [
      "[5 4 8 9 9 7 5 4 5 3 6 5 8 0 3 9 4 3 2 9 0 0 7 3 5 0 8 2 1 5 9 2 5 9 1 2 3\n",
      " 2 7 3 0 7 3 3 4 6 6 4 2 3 9 0 3 3 0 6 5 0 0 0 0 1 8 0 1 4 2 4 9 3 2 6 0 3\n",
      " 6 6 5 0 4 9 7 0 9 3 9 9 9 6 5 5 0 2 1 3 5 6 7 6 5 8 3 7 7 7 0 1 5 4 4 6 0\n",
      " 8 4 3 8 7 8 9 4 6 8 5 2 1 4 2 9 6 4 7 9 2 1 1 3 0 9 1 2 3 0 7 2 4 8 6 5 8\n",
      " 5 4 6 1 8 3 8 7 6 2 4 5 9 6 9 8 0 7 7 2 7 7 3 6 8 4 0 0 0 7 5 9 0 1 1 0 6\n",
      " 0 4 8 5 9 3 0 7 8 2 3 9 1 3 3 3 1 5 3 3 0 2 9 1 2 4 6 3 1 6 0 9 8 4 2 7 7\n",
      " 5 0 9 8 7 2 8 6 5 2 8 4 6 8 7 6 7 1 0 6 6 9 6 2 4 5 4 7 7 1 3 5 3 1 0 0 8\n",
      " 9 9 5 9 9 6 4 7 5 5 3 1 9 7 8 1 4 4 7 4 5 7 3 7 9 2 1 1 3 0 6 8 3 9 7 8 7\n",
      " 4 2 7 8 9 5 6 0 1 7 9 8 0 2 1 0 5 6 8 2 3 9 6 9 6 8 2 6 5 8 6 2 4 5 8 0 3\n",
      " 5 8 5 3 7 3 8 3 3 2 7 8 8 4 3 4 4 4 6 5 4 3 3 1 5 5 9 6 2 6 1 4 4 3 1 4 9\n",
      " 9 3 5 3 3 9 8 5 2 3 5 3 5 4 4 1 2 7 6 4 9 9 4 3 0 1 6 8 8 9 1 7 8 1 1 8 9\n",
      " 5 2 3 9 9 2 4 3 6 4 7 5 4 0 2 7 3 7 3 6 1 1 9 8 7 7 7 1 9 4 4 5 6 1 3 4 5\n",
      " 3 7 0 2 1 1 0 0 1 5 5 2 4 0 9 1 9 7 3 7 0 6 7 8 2 3 6 6 3 9 2 5 1 6 6 2 8\n",
      " 8 3 0 2 6 1 7 1 5 4 3 1 0 1 3 1 9 1 8 5 6 0 0 9 4 5 8 0 3 9 6 3 1 9 1 7 9\n",
      " 2 6 3 5 4 4 6 7 2 4 7 2 8 7 7 4 7 6 9 7 2 4 5 6 6 4 8 1 4 3 2 6 1 9 0 9 6\n",
      " 1 8 2 0 4 3 1 7 8 6 7 8 9 0 7 8 2 0 7 9 3 0 8 3 1 4 5 2 3 4 2 5 3 9 6 6 5\n",
      " 3 3 6 7 3 2 8 2 6 7 5 8 7 7 6 0 1 2 9 9 8 2 7 3 6 2 2 7 0 2 0 9 5 2 3 3 9\n",
      " 5 2 1 2 7 7 0 0 0 2 2 2 2 8 5 0 7 9 3 3 3 3 0 2 1 5 8 9 4 0 7 5 6 5 9 4 2\n",
      " 9 8 8 0 8 1 3 3 6 8 0 9 1 1 7 2 6 5 6 0 4 1 6 1 6 9 9 3 9 4 3 5 0 0 8 5 9\n",
      " 1 4 4 2 9 4 1 4 4 7 1 4 8 7 9 0 6 3 8 7 3 1 0 4 7 4 5 8 6 6 4 1 0 1 7 7 2\n",
      " 5 1 3 0 1 8 7 3 3 7 1 0 8 3 5 7 4 7 0 8 8 1 1 0 7 6 9 1 0 5 1 6 4 1 7 3 6\n",
      " 4 1 5 6 7 3 6 7 4 8 1 4 1 8 6 3 5 7 2 6 8 8 7 0 4 5 5 0 7 9 0 3 7 3 8 8 4\n",
      " 9 5 7 2 2 0 2 1 7 1 6 9 7 1 5 8 1 9 0 0 6 2 2 3 1 4 0 2 8 7 4 2 3 5 7 0 5\n",
      " 1 6 8 5 5 5 2 9 6 8 3 6 2 4 4 5 3 9 6 6 3 6 7 4 1 0 6 5 2 0 1 5 4 6 0 9 7\n",
      " 4 6 7 1 7 6 8 1 4 3 2 1 8 2 3 4 8 8 4 7 6 3 3 2 2 9 2 0 3 8 1 7 1 0 4 3 0\n",
      " 6 7 9 1 1 8 1 1 3 1 2 6 2 4 5 0 3 5 5 6 4 6 0 9 7 8 1 1 9 8 6 5 4 7 0 1 7\n",
      " 6 5 5 3 1 3 4 8 6 0 7 9 2 6 9 1 8 3 5 0 0 3 1 6 6 2 4 4 5 4 2 9 0 0 1 3 1\n",
      " 2] [5 4 8 9 9 7 6 4 5 3 6 5 8 0 3 9 4 3 2 4 0 0 7 3 5 0 8 2 1 5 9 2 5 4 1 2 3\n",
      " 2 7 8 0 7 3 8 4 6 6 4 2 8 9 5 2 3 0 6 5 9 9 0 0 1 3 2 1 9 2 4 3 3 2 6 0 8\n",
      " 6 6 5 0 4 9 7 0 9 3 9 9 4 0 5 6 0 2 1 3 5 2 7 6 6 8 3 7 9 7 0 1 5 4 4 6 0\n",
      " 8 4 3 5 7 8 9 4 6 1 5 2 1 4 2 9 6 2 7 7 2 1 1 3 0 9 1 2 3 0 7 3 4 8 6 5 9\n",
      " 5 4 6 1 8 3 8 7 6 2 4 5 9 6 9 8 0 7 7 2 7 7 5 6 8 9 0 0 0 7 5 9 0 1 1 5 6\n",
      " 0 4 8 3 9 5 0 7 5 2 3 9 1 2 5 3 1 8 3 3 0 1 9 1 2 4 6 4 5 6 0 9 8 4 2 7 7\n",
      " 5 6 9 8 9 2 8 6 5 8 8 9 6 8 7 6 7 1 0 6 6 9 6 2 9 3 7 7 7 1 3 5 3 1 0 0 8\n",
      " 9 4 5 8 9 6 9 7 5 5 3 6 9 7 8 1 4 4 7 4 0 8 9 7 9 2 1 8 3 0 6 8 3 9 7 5 7\n",
      " 4 2 7 0 9 5 2 0 1 2 7 4 0 2 1 5 5 3 5 2 3 9 6 8 6 8 2 6 5 8 5 2 9 5 5 0 3\n",
      " 5 8 5 3 7 3 8 3 3 2 7 8 8 3 5 4 2 4 6 5 4 3 3 1 5 5 7 6 2 6 1 4 4 3 1 4 7\n",
      " 9 3 9 3 3 9 5 5 2 8 5 3 5 4 2 1 2 7 6 4 9 9 4 3 0 6 6 8 8 5 1 7 8 1 1 8 9\n",
      " 5 2 3 9 9 2 4 3 6 4 7 5 4 0 2 7 5 7 3 6 1 1 9 1 5 7 7 1 2 2 4 5 6 1 3 4 8\n",
      " 3 7 0 2 1 1 0 0 1 0 5 2 4 0 9 1 9 7 5 7 0 6 7 2 3 0 6 6 3 4 2 5 1 6 5 2 3\n",
      " 8 3 4 8 6 1 7 1 5 4 3 1 0 1 3 1 8 1 8 5 6 0 0 9 4 5 8 0 3 9 6 3 4 9 1 7 4\n",
      " 9 6 3 5 4 4 6 2 7 6 7 6 6 7 7 4 2 6 9 7 8 4 3 6 6 4 8 1 4 3 2 6 1 9 0 9 6\n",
      " 1 8 2 6 4 3 1 7 8 6 7 8 9 2 7 5 2 0 7 9 3 0 8 3 1 4 5 2 3 4 2 5 3 9 6 4 5\n",
      " 3 3 6 7 3 2 3 2 6 7 5 1 7 7 4 0 1 2 9 9 8 6 7 5 6 2 2 7 2 2 0 9 0 2 3 3 9\n",
      " 5 2 1 2 7 7 0 0 0 2 2 2 2 8 5 0 7 4 3 3 3 3 9 2 1 3 8 9 4 0 2 5 6 5 9 4 2\n",
      " 9 8 8 0 8 1 5 3 6 4 0 9 1 1 7 2 6 5 6 0 9 1 6 5 6 9 9 3 9 4 3 5 0 0 8 5 7\n",
      " 1 4 7 2 9 4 1 4 4 7 1 4 8 7 9 0 6 3 8 7 3 1 6 4 7 4 5 3 6 6 4 1 0 1 7 7 8\n",
      " 5 1 3 0 1 8 7 3 3 7 1 0 8 3 8 7 4 7 0 9 8 1 5 0 7 6 9 1 0 5 1 6 7 1 7 8 6\n",
      " 4 1 5 6 7 3 6 7 4 3 1 4 1 8 6 3 5 7 2 6 8 8 7 0 4 5 5 0 6 4 0 3 7 3 8 8 4\n",
      " 9 8 7 2 2 0 2 1 7 1 6 9 9 1 5 1 7 9 0 0 6 2 2 3 1 4 0 2 8 7 4 2 3 5 9 0 5\n",
      " 1 6 8 5 5 5 2 9 6 8 2 6 2 4 4 5 5 9 6 6 3 6 7 4 1 0 6 3 2 0 1 5 4 5 0 9 7\n",
      " 9 6 7 1 9 2 8 1 4 3 7 7 8 2 3 4 7 8 4 7 6 2 3 2 2 9 2 0 3 8 1 7 1 0 4 3 0\n",
      " 6 7 7 1 5 3 1 1 3 1 2 6 7 4 0 0 3 5 8 6 4 6 0 4 7 8 1 1 9 2 6 5 4 7 2 1 7\n",
      " 6 5 5 3 2 2 4 8 6 0 7 9 4 1 9 1 8 3 8 0 6 3 1 4 2 2 3 4 5 2 2 9 0 5 1 8 1\n",
      " 2]\n",
      "Dev Set Accuracy: 0.825\n"
     ]
    }
   ],
   "source": [
    "# Evaluate accuracy on development set\n",
    "dev_predictions = make_predictions(X_dev, W1, b1, W2, b2)\n",
    "print(\"Dev Set Accuracy:\", get_accuracy(dev_predictions, Y_dev))"
   ]
  },
  {
   "cell_type": "markdown",
   "metadata": {},
   "source": [
    "## **Summary**\n",
    "\n",
    "-   A **2-layer neural network** trained on MNIST.\n",
    "-   Uses **ReLU & softmax** activations.\n",
    "-   Uses **gradient descent** to update weights.\n",
    "-   Can classify **handwritten digits (0-9)**.\n",
    "---"
   ]
  }
 ],
 "metadata": {
  "kaggle": {
   "accelerator": "none",
   "dataSources": [
    {
     "databundleVersionId": 861823,
     "sourceId": 3004,
     "sourceType": "competition"
    }
   ],
   "dockerImageVersionId": 30035,
   "isGpuEnabled": false,
   "isInternetEnabled": false,
   "language": "python",
   "sourceType": "notebook"
  },
  "kernelspec": {
   "display_name": "Python 3",
   "language": "python",
   "name": "python3"
  },
  "language_info": {
   "codemirror_mode": {
    "name": "ipython",
    "version": 3
   },
   "file_extension": ".py",
   "mimetype": "text/x-python",
   "name": "python",
   "nbconvert_exporter": "python",
   "pygments_lexer": "ipython3",
   "version": "3.12.6"
  }
 },
 "nbformat": 4,
 "nbformat_minor": 4
}
