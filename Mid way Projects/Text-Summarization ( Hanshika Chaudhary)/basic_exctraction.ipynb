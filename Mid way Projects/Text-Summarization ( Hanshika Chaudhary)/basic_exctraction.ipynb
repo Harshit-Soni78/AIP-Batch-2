{
 "cells": [
  {
   "cell_type": "markdown",
   "metadata": {},
   "source": [
    "# Importing Required Libraries\n",
    "\n"
   ]
  },
  {
   "cell_type": "code",
   "execution_count": 19,
   "metadata": {},
   "outputs": [],
   "source": [
    "import spacy                                            #for NLP processing\n",
    "from spacy.lang.en.stop_words import STOP_WORDS\n",
    "from string import punctuation\n",
    "from collections import Counter                         #for counting word frequencies\n",
    "from heapq import nlargest                              # For selecting top sentences\n",
    "\n",
    "import tkinter as tk                                    #For GUI\n",
    "from tkinter import scrolledtext\n",
    "from tkinter import messagebox\n",
    "from tkinter import END"
   ]
  },
  {
   "cell_type": "markdown",
   "metadata": {},
   "source": [
    "# Summarizing Text"
   ]
  },
  {
   "cell_type": "code",
   "execution_count": 20,
   "metadata": {},
   "outputs": [],
   "source": [
    "def summarize_text():\n",
    "    # Get text from the text box\n",
    "    text = text_box.get(\"1.0\", \"end-1c\")\n",
    "    \n",
    "    # Loading spaCy model\n",
    "    nlp = spacy.load('en_core_web_sm')     #loads a pre-trained English NLP model\n",
    "    \n",
    "    # Tokenization and removing stopwords\n",
    "    doc = nlp(text)                        #performs tokenization,NER,POS Tagging, and dependency parsing\n",
    "    tokens = [token.text.lower() for token in doc \n",
    "              if not token.is_stop and\n",
    "                not token.is_punct and\n",
    "                  token.text != '\\n']\n",
    "\n",
    "    # Calculating word frequency\n",
    "    word_freq = Counter(tokens)            #creates a dictionary where words are keys, and their frequency is the value\n",
    "    if not word_freq:\n",
    "        messagebox.showerror(\"Warning\", \"Text contains only stopwords or punctuation. Please enter meaningful content.\")\n",
    "        return\n",
    "    \n",
    "    # Normalization (so that values are b/w 0 and 1)\n",
    "    max_freq = max(word_freq.values())\n",
    "    for word in word_freq.keys():\n",
    "        word_freq[word] = word_freq[word]/max_freq\n",
    "      \n",
    "    # Sentence tokenization\n",
    "    sent_token = [sent.text for sent in doc.sents]\n",
    "\n",
    "    sent_score = {}                       #dictionary where Keys = Sentences, Values = Sentence scores\n",
    "    for sent in sent_token:\n",
    "        for word in sent.split():\n",
    "            if word.lower() in word_freq.keys():\n",
    "                if sent not in sent_score.keys():\n",
    "                    sent_score[sent] = word_freq[word]\n",
    "                else:\n",
    "                    sent_score[sent] += word_freq[word]\n",
    "\n",
    "    # Select top-scoring sentences based on user input\n",
    "    num_sentences = int(num_sentences_entry.get())                                                       #no of sentences user wants\n",
    "    summarized_sentences = nlargest(num_sentences, sent_score, key=sent_score.get)\n",
    "\n",
    "    # Display summarized text in the result box\n",
    "    result_box.delete(1.0, END)\n",
    "    result_box.insert(END, \" \".join(summarized_sentences))\n",
    "\n"
   ]
  },
  {
   "cell_type": "markdown",
   "metadata": {},
   "source": [
    "# GUI setup"
   ]
  },
  {
   "cell_type": "code",
   "execution_count": 21,
   "metadata": {},
   "outputs": [],
   "source": [
    "root = tk.Tk()\n",
    "root.title(\"Text Summarizer\")\n",
    "\n",
    "# Text box for input\n",
    "text_box = scrolledtext.ScrolledText(root, width=100, height=15, wrap=tk.WORD)\n",
    "text_box.pack(pady=10)\n",
    "\n",
    "# Entry field for the number of sentences\n",
    "num_sentences_label = tk.Label(root, text=\"Number of Sentences:\")\n",
    "num_sentences_label.pack()\n",
    "num_sentences_entry = tk.Entry(root, width=10)\n",
    "num_sentences_entry.insert(END, \"3\")  # Default value\n",
    "num_sentences_entry.pack()\n",
    "\n",
    "# Button to summarize\n",
    "summarize_button = tk.Button(root, text=\"Summarize\", command=summarize_text)\n",
    "summarize_button.pack(pady=5)\n",
    "\n",
    "# Result box for output\n",
    "result_box = scrolledtext.ScrolledText(root, width=100, height=15, wrap=tk.WORD)\n",
    "result_box.pack(pady=10)\n",
    "\n",
    "root.mainloop()\n"
   ]
  }
 ],
 "metadata": {
  "kernelspec": {
   "display_name": "AIM",
   "language": "python",
   "name": "python3"
  },
  "language_info": {
   "codemirror_mode": {
    "name": "ipython",
    "version": 3
   },
   "file_extension": ".py",
   "mimetype": "text/x-python",
   "name": "python",
   "nbconvert_exporter": "python",
   "pygments_lexer": "ipython3",
   "version": "3.12.9"
  }
 },
 "nbformat": 4,
 "nbformat_minor": 2
}
