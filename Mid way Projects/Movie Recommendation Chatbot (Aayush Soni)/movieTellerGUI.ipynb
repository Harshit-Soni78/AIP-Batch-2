{
 "cells": [
  {
   "cell_type": "code",
   "execution_count": 24,
   "metadata": {},
   "outputs": [
    {
     "name": "stderr",
     "output_type": "stream",
     "text": [
      "[nltk_data] Downloading package vader_lexicon to\n",
      "[nltk_data]     C:\\Users\\2005s\\AppData\\Roaming\\nltk_data...\n",
      "[nltk_data]   Package vader_lexicon is already up-to-date!\n"
     ]
    }
   ],
   "source": [
    "import spacy\n",
    "import random\n",
    "import nltk\n",
    "import tkinter as tk\n",
    "from tkinter import scrolledtext, ttk\n",
    "from nltk.sentiment import SentimentIntensityAnalyzer\n",
    "\n",
    "# Load NLP models\n",
    "nlp = spacy.load(\"en_core_web_sm\")\n",
    "nltk.download('vader_lexicon')\n",
    "sia = SentimentIntensityAnalyzer()"
   ]
  },
  {
   "cell_type": "code",
   "execution_count": 25,
   "metadata": {},
   "outputs": [],
   "source": [
    "# Movie database (Genres + Actors)\n",
    "movie_db = {\n",
    "    \"action\": [\"Mad Max: Fury Road\", \"John Wick\", \"Die Hard\"],\n",
    "    \"sci-fi\": [\"Interstellar\", \"Blade Runner 2049\", \"The Matrix\"],\n",
    "    \"thriller\": [\"Gone Girl\", \"Seven\", \"Shutter Island\"],\n",
    "    \"romance\": [\"Titanic\", \"The Notebook\", \"La La Land\"],\n",
    "    \"Tom Cruise\": [\"Mission Impossible\", \"Top Gun\", \"Edge of Tomorrow\"],\n",
    "    \"Leonardo DiCaprio\": [\"Inception\", \"The Revenant\", \"Titanic\"]\n",
    "}"
   ]
  },
  {
   "cell_type": "code",
   "execution_count": 26,
   "metadata": {},
   "outputs": [],
   "source": [
    "# Extract movie genre or actor name\n",
    "def extract_movie_info(user_input):\n",
    "    user_input = user_input.lower()\n",
    "    genre, actor = None, None\n",
    "    \n",
    "    # Check if input contains a genre or actor\n",
    "    for key in movie_db.keys():\n",
    "        if key.lower() in user_input:\n",
    "            if key in [\"Tom Cruise\", \"Leonardo DiCaprio\"]:\n",
    "                actor = key\n",
    "            else:\n",
    "                genre = key\n",
    "\n",
    "    # Named Entity Recognition (NER) for actor names\n",
    "    doc = nlp(user_input)\n",
    "    for ent in doc.ents:\n",
    "        if ent.label_ == \"PERSON\" and ent.text in movie_db:\n",
    "            actor = ent.text\n",
    "\n",
    "    return genre, actor\n"
   ]
  },
  {
   "cell_type": "code",
   "execution_count": 58,
   "metadata": {},
   "outputs": [],
   "source": [
    "# Chatbot logic\n",
    "def chatbot_response():\n",
    "    user_input = user_entry.get()\n",
    "    if not user_input:\n",
    "        return\n",
    "\n",
    "    chat_display.insert(tk.END, f\"\\nYou: {user_input}\\n\")\n",
    "    user_entry.delete(0, tk.END)\n",
    "\n",
    "    if user_input.lower() in [\"exit\", \"quit\", \"stop\"]:\n",
    "        chat_display.insert(tk.END, \"👋 Goodbye! Enjoy your movie!\\n\")\n",
    "        return\n",
    "\n",
    "    genre, actor = extract_movie_info(user_input)\n",
    "\n",
    "    if genre:\n",
    "        movie = random.choice(movie_db[genre])\n",
    "        chat_display.insert(tk.END, f\"🎥 MovieBot: I recommend watching '{movie}'\\n\")\n",
    "    elif actor:\n",
    "        movie = random.choice(movie_db[actor])\n",
    "        chat_display.insert(tk.END, f\"🎥 MovieBot: Since you like {actor}, try '{movie}'\\n\")\n",
    "    else:\n",
    "        chat_display.insert(tk.END, \"🤔 MovieBot: Please mention a genre or an actor.\\n\")\n",
    "\n",
    "    # Ask for feedback\n",
    "    chat_display.insert(tk.END, \"Did you like the suggestion? (yes/no)\\n\")\n",
    "    feedback_button_frame.pack()\n",
    "\n",
    "# Handle user feedback\n",
    "def handle_feedback(response):\n",
    "    sentiment = sia.polarity_scores(response)[\"compound\"]\n",
    "    if sentiment < 0:\n",
    "        chat_display.insert(tk.END, \"😔 MovieBot: Sorry! Let me suggest another movie.\\n\")\n",
    "    else:\n",
    "        chat_display.insert(tk.END, \"🎉 MovieBot: Glad you liked it! Enjoy your movie!\\n\")\n",
    "    feedback_button_frame.pack_forget()\n",
    "\n",
    "# Create GUI using Tkinter\n",
    "root = tk.Tk()\n",
    "root.title(\"Movie Recommendation Chatbot\")\n",
    "\n",
    "# Chat display area\n",
    "chat_display = scrolledtext.ScrolledText(root, wrap=tk.WORD, width=50, height=15)\n",
    "chat_display.pack(padx=10, pady=10)\n",
    "chat_display.insert(tk.END, \"🎬 Welcome to MovieBot! Tell me what kind of movies you like.\\n\")\n",
    "\n",
    "# User input field\n",
    "user_entry = tk.Entry(root, width=40)\n",
    "user_entry.pack(padx=10, pady=5)\n",
    "\n",
    "# Send button\n",
    "send_button = tk.Button(root, text=\"Send\", command=chatbot_response)\n",
    "send_button.pack()\n",
    "\n",
    "# Feedback buttons\n",
    "feedback_button_frame = tk.Frame(root)\n",
    "yes_button = tk.Button(feedback_button_frame, text=\"Yes 😊\", command=lambda: handle_feedback(\"yes\"))\n",
    "no_button = tk.Button(feedback_button_frame, text=\"No 😞\", command=lambda: handle_feedback(\"no\"))\n",
    "yes_button.pack(side=tk.LEFT, padx=5)\n",
    "no_button.pack(side=tk.RIGHT, padx=5)\n"
   ]
  },
  {
   "cell_type": "code",
   "execution_count": 59,
   "metadata": {},
   "outputs": [],
   "source": [
    "# Run GUI loop\n",
    "root.mainloop()"
   ]
  }
 ],
 "metadata": {
  "kernelspec": {
   "display_name": "Python 3",
   "language": "python",
   "name": "python3"
  },
  "language_info": {
   "codemirror_mode": {
    "name": "ipython",
    "version": 3
   },
   "file_extension": ".py",
   "mimetype": "text/x-python",
   "name": "python",
   "nbconvert_exporter": "python",
   "pygments_lexer": "ipython3",
   "version": "3.12.5"
  }
 },
 "nbformat": 4,
 "nbformat_minor": 2
}
